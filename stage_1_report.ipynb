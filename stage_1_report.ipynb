{
 "metadata": {
  "language_info": {
   "codemirror_mode": {
    "name": "ipython",
    "version": 3
   },
   "file_extension": ".py",
   "mimetype": "text/x-python",
   "name": "python",
   "nbconvert_exporter": "python",
   "pygments_lexer": "ipython3",
   "version": "3.8.6"
  },
  "orig_nbformat": 2,
  "kernelspec": {
   "name": "python386jvsc74a57bd0856760b585e671362f30678310c8c20e2d235c41641b1628f8a5fb20709a983c",
   "display_name": "Python 3.8.6 64-bit"
  },
  "metadata": {
   "interpreter": {
    "hash": "856760b585e671362f30678310c8c20e2d235c41641b1628f8a5fb20709a983c"
   }
  }
 },
 "nbformat": 4,
 "nbformat_minor": 2,
 "cells": [
  {
   "source": [
    "# Stage1 線形代数\n",
    "## 第1章：線形代数\n",
    "## 第2章：確率・統計\n",
    "## 第3章：情報理論"
   ],
   "cell_type": "markdown",
   "metadata": {}
  },
  {
   "source": [
    "## 第1章：線形代数"
   ],
   "cell_type": "markdown",
   "metadata": {}
  },
  {
   "source": [
    "### スカラー・ベクトル・行列\n",
    "- スカラー\n",
    "<br>\n",
    "1つの数字で表されて、四則演算可能\n",
    "<br>\n",
    "例：0, 1, -1, 100\n",
    "- ベクトル\n",
    "<br>\n",
    "複数の数字（矢印）で表されて、特定の演算が可能\n",
    "<br>\n",
    "例：$\\left( \\begin{array}{c} 0 \\\\ 1 \\end{array} \\right)$\n",
    "- 行列\n",
    "<br>\n",
    "複数のベクトルで表されて、特定の演算が可能\n",
    "<br>\n",
    "例：$\\left( \\begin{array}{cc} 0 & 2 \\\\ 1 & 3 \\end{array} \\right)$"
   ],
   "cell_type": "markdown",
   "metadata": {}
  },
  {
   "source": [
    "### 連立方程式と行列\n",
    "以下の2つの式は等価\n",
    "<br>\n",
    "連立方程式を行列の変換（逆行列をかけること）で解くことができる\n",
    "- $\\left\\{ \\begin{align}\n",
    "x_1 + 2x_2 &= 3 \\\\\n",
    "    2x_1 + 5x_2 &= 5\n",
    "        \\end{align} \\right.$\n",
    "- $\\left( \\begin{array}{cc}\n",
    "1 & 2 \\\\\n",
    "    2 & 5\n",
    "    \\end{array} \\right)\n",
    "    \\left( \\begin{array}{c}\n",
    "    x_1 \\\\\n",
    "        x_2\n",
    "        \\end{array} \\right)\n",
    "        =\n",
    "        \\left(\n",
    "            \\begin{array}{c}\n",
    "            3 \\\\\n",
    "                5\n",
    "                \\end{array} \\right)\n",
    "                $"
   ],
   "cell_type": "markdown",
   "metadata": {}
  },
  {
   "source": [
    "### 単位行列と逆行列\n",
    "- 単位行列 $I$\n",
    "<br>\n",
    "対角に1が並んだ行列（スカラーの1に相当）\n",
    "<br>\n",
    "例：$\\left( \\begin{array}{cc}\n",
    "1 & 0 \\\\\n",
    "    0 & 1\n",
    "    \\end{array} \\right)$\n",
    "- 逆行列 $A^{-1}$\n",
    "<br>\n",
    "ある行列に対して、かけると単位行列になる行列（スカラーの逆数に相当）\n",
    "<br>\n",
    "例：$A = \\left( \\begin{array}{cc}\n",
    "1 & 1 \\\\\n",
    "    1 & -1 / 2\n",
    "    \\end{array} \\right)\n",
    "$に対して、$A^{-1} = \\left( \\begin{array}{cc}\n",
    "1 / 3 & 2 / 3 \\\\\n",
    "    2 / 3 & -2 / 3\n",
    "    \\end{array} \\right)\n",
    "    $\n",
    "<br>\n",
    "掃き出し法で計算可能"
   ],
   "cell_type": "markdown",
   "metadata": {}
  },
  {
   "source": [
    "### 逆行列が存在しない条件\n",
    "行列 $\\left( \\begin{array}{cc}\n",
    "a & b \\\\\n",
    "    c & d\n",
    "    \\end{array} \\right)\n",
    "    $ に対して、$ad = bc$ ならば逆行列が存在しない\n",
    "<br>\n",
    "一般に行列 $A$ の行列式 $\\det A = 0$ ならば逆行列が存在しない"
   ],
   "cell_type": "markdown",
   "metadata": {}
  },
  {
   "source": [
    "### 固有値と固有ベクトル\n",
    "正方行列 $A$ に対して $A \\mathbb{x} = \\lambda \\mathbb{x}$ が成立するとき、$\\mathbb{x}$ を $A$ の固有ベクトル、$\\lambda$ を固有値という\n",
    "<br>\n",
    "$A = \\left( \\begin{array}{cc}\n",
    "1 & 4 \\\\\n",
    "    2 & 3\n",
    "    \\end{array} \\right)\n",
    "$ に対して $\\left( \\begin{array}{cc}\n",
    "1 \\\\\n",
    "    1\n",
    "    \\end{array} \\right)$ は固有ベクトル、5は固有値\n",
    "<br>\n",
    "$\\det (A - \\lambda I) = 0$ によって計算可能"
   ],
   "cell_type": "markdown",
   "metadata": {}
  },
  {
   "source": [
    "### 特異値と特異ベクトル\n",
    "行列 $M$ に対して $M \\mathbb{v} = \\sigma \\mathbb{u}$, $M^T \\mathbb{u} = \\sigma \\mathbb{v}$ が成立するとき、\n",
    "$\\mathbb{u}$ を左特異ベクトル、$\\mathbb{v}$ を右特異ベクトル、$\\sigma$ を特異値という\n",
    "<br>\n",
    "特異値、特異ベクトルは $MM^T, M^TM$ の固有値、固有ベクトルから得られる"
   ],
   "cell_type": "markdown",
   "metadata": {}
  },
  {
   "source": [
    "### 行列分解\n",
    "固有値や特異値を利用して、行列を複数の行列の積に分解できる\n",
    "<br>\n",
    "$A^n$の計算やデータの近似などに利用可能\n",
    "- 固有値分解 $A = V \\Lambda V$\n",
    "<br>\n",
    "$\\Lambda$は固有値を並べた行列$\\Lambda = \\left( \\begin{array}{ccc}\n",
    "\\lambda_1 & & \\\\\n",
    "    & \\lambda_2 & \\\\\n",
    "        & & \\ddots\n",
    "        \\end{array} \\right)$\n",
    "<br>\n",
    "$V$は対応する固有ベクトルを並べた行列$V = \\left( \\begin{array}{ccc}\n",
    "\\mathbb{v_1} & \\mathbb{v_2} & \\cdots\n",
    "\\end{array} \\right)$\n",
    "- 特異値分解 $M = USV^T$\n",
    "<br>\n",
    "$S$は特異値を並べた行列$S = \\left( \\begin{array}{ccc}\n",
    "\\sigma_1 & & \\\\\n",
    "    & \\sigma_2 & \\\\\n",
    "        & & \\ddots\n",
    "        \\end{array} \\right)$\n",
    "<br>\n",
    "$U, V$ は対応する左特異ベクトル、右特異ベクトルを並べた行列"
   ],
   "cell_type": "markdown",
   "metadata": {}
  },
  {
   "source": [
    "## 第2章：確率・統計"
   ],
   "cell_type": "markdown",
   "metadata": {}
  },
  {
   "source": [
    "### 集合\n",
    "- 集合\n",
    "<br>\n",
    "ものの集まり\n",
    "<br>\n",
    "例：$S = \\{a, b, c, d, e, f, g\\}$\n",
    "- 部分集合と要素\n",
    "<br>\n",
    "例：$\\{a\\} \\subset S$, $a \\in S$\n",
    "- 和集合と共通部分\n",
    "<br>\n",
    "例：$A=\\{a, b\\}, B=\\{b, c\\}$ のとき、$A \\cup B = \\{a, b, c\\}, A \\cap B = \\{b\\}$\n",
    "- 絶対補と相対補\n",
    "<br>\n",
    "$A$に含まれていない要素の集合を絶対補 $\\bar{A}$、$B$ に含まれているが $A$ に含まれていない要素の集合を相対補 $B\\setminus A$ という"
   ],
   "cell_type": "markdown",
   "metadata": {}
  },
  {
   "source": [
    "### 確率\n",
    "- 事象Aが起こる確率\n",
    "<br>\n",
    "$P(A)=\\frac{事象Aが起こる数}{すべての事象の数}$\n",
    "- 事象Aが起こらない確率\n",
    "<br>\n",
    "$P(\\overline{A})=1-P(A)$\n",
    "- 事象Bが起こるときに事象Aが起こる確率\n",
    "$P(A \\mid B) = \\frac{P(A \\cap B)}{P(B)}$\n",
    "- 事象Aと事象Bが共に起こる確率\n",
    "<br>\n",
    "$P(A \\cap B) = P(A) P(B \\mid A) = P(B) P(A \\mid B)$\n",
    "- 事象Aと事象Bが共に起こる確率(AとBが独立))\n",
    "<br>\n",
    "$P(A \\cap B) = P(A) P(B)$\n",
    "- 事象Aと事象Bの少なくとも一方が起こる確率\n",
    "<br>\n",
    "$P(A \\cup B) = P(A) + P(B) - P(A \\cap B)$\n",
    "- ベイズ則\n",
    "<br>\n",
    "$P(A) P(B \\mid A) = P(B) P(A \\mid B)$\n",
    "\n"
   ],
   "cell_type": "markdown",
   "metadata": {}
  },
  {
   "source": [
    "### 記述統計と推測統計\n",
    "- 記述統計\n",
    "<br>\n",
    "集団の性質(平均など)を要約し記述する\n",
    "- 推測統計\n",
    "<br>\n",
    "母集団から標本抽出し、母集団の性質を推測する\n",
    "<br>\n",
    "全数調査が必要ない"
   ],
   "cell_type": "markdown",
   "metadata": {}
  },
  {
   "source": [
    "### 統計量\n",
    "- 確率変数\n",
    "<br>\n",
    "確率を表す変数\n",
    "<br>\n",
    "事象と結びつけられた数値(表を1、裏を0で表すなど)\n",
    "- 確率分布\n",
    "<br>\n",
    "事象が発生する確率の分布\n",
    "- 期待値\n",
    "<br>\n",
    "データの平均的な値\n",
    "<br>\n",
    "$\\begin{align}\n",
    "E(f) &= \\sum_{k = 1}^{n} P(X = x_k) f(X = x_k) & (\\text{離散値の場合}) \\\\\n",
    "    E(f) &= \\int P(X = x) f(X = x) dx & (\\text{連続値の場合})\n",
    "\\end{align}$\n",
    "- 分散\n",
    "<br>\n",
    "データの散らばり具合\n",
    "<br>\n",
    "$\\begin{align}\n",
    "\\mathrm{Var}(f) &= E\\left(\\left(f_{(X = x)} - E_{(f)}\\right)^2\\right) \\\\\n",
    "    &= E\\left(f_{X = x}^2\\right) - \\left(E_{(f)}\\right)^2\n",
    "\\end{align}$\n",
    "- 共分散\n",
    "<br>\n",
    "2つのデータ系列の傾向の違い\n",
    "<br>\n",
    "$\\begin{align}\n",
    "\\mathrm{Cov}(f, g) &= E\\left(\\left(f_{(X = x)} - E(f)\\right) \\left(g_{(Y = y)} - E(g)\\right)\\right) \\\\\n",
    "    &= E(fg) - E(f) E(g)\n",
    "\\end{align}$\n",
    "- 標準偏差\n",
    "<br>\n",
    "分散の平方根を取り、元のデータの単位と揃える\n",
    "<br>\n",
    "$\\sigma = \\sqrt{\\mathrm{Var}(f)}$"
   ],
   "cell_type": "markdown",
   "metadata": {}
  },
  {
   "source": [
    "### 確率分布\n",
    "- ベルヌーイ分布\n",
    "<br>\n",
    "コイントスのような分布(二値)\n",
    "- マルチヌーイ(カテゴリカル)分布\n",
    "<br>\n",
    "さいころのような分布(多値)\n",
    "- 二項分布\n",
    "<br>\n",
    "コイントスを複数行い、表の数を数えるような分布\n",
    "- ガウス分布\n",
    "<br>\n",
    "釣鐘型の連続分布\n",
    "誤差の分布によく使われる\n"
   ],
   "cell_type": "markdown",
   "metadata": {}
  },
  {
   "source": [
    "### 推定\n",
    "- 推定\n",
    "<br>\n",
    "母集団を特徴づける母数(パラメータ)を統計学的に推測すること\n",
    "<br>\n",
    "点推定(母数の値を1つの点で推定)と区間推定(母数の値を1つの区間で推定)がある\n",
    "- 推定量\n",
    "<br>\n",
    "パラメータを推定するために利用する計算方法\n",
    "- 推定値\n",
    "<br>\n",
    "実際の結果から計算した値\n",
    "<br>\n",
    "真の値 $\\theta$ に対して、推定値を $\\overline{\\theta}$ のように表す\n",
    "- 一致性\n",
    "<br>\n",
    "サンプル数が大きくなれば、母数と推定値が近づく性質\n",
    "- 不偏性\n",
    "<br>\n",
    "サンプル数によらず、推定値の期待値が母数と一致する性質\n",
    "- 標本平均\n",
    "<br>\n",
    "一致性と不偏性を満たす\n",
    "- 標本分散 $\\frac{1}{n} \\sum_{i = 1}^{n} (x_i - \\overline{x})^2$\n",
    "<br>\n",
    "一致性は満たすが不偏性は満たさない\n",
    "- 不偏分散 $\\frac{1}{n - 1} \\sum_{i = 1}^{n} (x_i - \\overline{x})^2$\n",
    "<br>\n",
    "一致性と不偏性を満たす"
   ],
   "cell_type": "markdown",
   "metadata": {}
  },
  {
   "source": [
    "## 第3章：情報理論"
   ],
   "cell_type": "markdown",
   "metadata": {}
  },
  {
   "source": [
    "- 自己情報量\n",
    "<br>\n",
    "貴重な情報(起こる確率が低い)ほど情報量が大きい\n",
    "<br>\n",
    "$I(x) = -\\log (P(x))$\n",
    "- シャノンエントロピ\n",
    "<br>\n",
    "自己情報量の期待値\n",
    "<br>\n",
    "分布に偏りがないほど値が大きい\n",
    "<br>\n",
    "$\\begin{align}\n",
    "H(x) &= E(I(x)) \\\\\n",
    "    &= -\\sum \\left(P(x) \\log P(x)\\right)\n",
    "    \\end{align}$\n",
    "- カルバック・ライブラーダイバージェンス\n",
    "<br>\n",
    "異なる確率分布 $P, Q$ の違いを表す\n",
    "<br>\n",
    "$D_{KL}(P||Q) = E_{x \\sim P} [\\log P(x) - \\log Q(x)]$\n",
    "- 交差エントロピー\n",
    "<br>\n",
    "Qについての自己情報量をPの分布で平均したもの\n",
    "<br>\n",
    "$H(P, Q) = -E_{x \\sim P} \\log Q(x) = H(P) + D_{KL}(P||Q)$"
   ],
   "cell_type": "markdown",
   "metadata": {}
  }
 ]
}